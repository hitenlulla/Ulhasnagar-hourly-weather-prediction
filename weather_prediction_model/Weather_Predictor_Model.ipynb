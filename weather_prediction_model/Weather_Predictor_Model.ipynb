{
  "nbformat": 4,
  "nbformat_minor": 0,
  "metadata": {
    "colab": {
      "name": "Weather_Predictor_Model",
      "provenance": [],
      "collapsed_sections": []
    },
    "kernelspec": {
      "display_name": "Python 3",
      "name": "python3"
    },
    "language_info": {
      "name": "python"
    }
  },
  "cells": [
    {
      "cell_type": "code",
      "metadata": {
        "id": "YJLWTAdfbydL"
      },
      "source": [
        "import pandas as pd\n",
        "\n",
        "\n",
        "data = pd.read_csv('bombay.csv')"
      ],
      "execution_count": null,
      "outputs": []
    },
    {
      "cell_type": "code",
      "metadata": {
        "id": "xeYegmLkc3Le"
      },
      "source": [
        "data['Date'] = pd.to_datetime(data['date_time'])"
      ],
      "execution_count": null,
      "outputs": []
    },
    {
      "cell_type": "code",
      "metadata": {
        "colab": {
          "base_uri": "https://localhost:8080/",
          "height": 394
        },
        "id": "bZM1ro2hdOHD",
        "outputId": "6121e419-956e-46e6-bd2e-b880aa499509"
      },
      "source": [
        "data.tail()\n"
      ],
      "execution_count": null,
      "outputs": [
        {
          "output_type": "execute_result",
          "data": {
            "text/html": [
              "<div>\n",
              "<style scoped>\n",
              "    .dataframe tbody tr th:only-of-type {\n",
              "        vertical-align: middle;\n",
              "    }\n",
              "\n",
              "    .dataframe tbody tr th {\n",
              "        vertical-align: top;\n",
              "    }\n",
              "\n",
              "    .dataframe thead th {\n",
              "        text-align: right;\n",
              "    }\n",
              "</style>\n",
              "<table border=\"1\" class=\"dataframe\">\n",
              "  <thead>\n",
              "    <tr style=\"text-align: right;\">\n",
              "      <th></th>\n",
              "      <th>date_time</th>\n",
              "      <th>maxtempC</th>\n",
              "      <th>mintempC</th>\n",
              "      <th>totalSnow_cm</th>\n",
              "      <th>sunHour</th>\n",
              "      <th>uvIndex</th>\n",
              "      <th>uvIndex.1</th>\n",
              "      <th>moon_illumination</th>\n",
              "      <th>moonrise</th>\n",
              "      <th>moonset</th>\n",
              "      <th>sunrise</th>\n",
              "      <th>sunset</th>\n",
              "      <th>DewPointC</th>\n",
              "      <th>FeelsLikeC</th>\n",
              "      <th>HeatIndexC</th>\n",
              "      <th>WindChillC</th>\n",
              "      <th>WindGustKmph</th>\n",
              "      <th>cloudcover</th>\n",
              "      <th>humidity</th>\n",
              "      <th>precipMM</th>\n",
              "      <th>pressure</th>\n",
              "      <th>visibility</th>\n",
              "      <th>winddirDegree</th>\n",
              "      <th>windspeedKmph</th>\n",
              "      <th>tempC</th>\n",
              "      <th>Date</th>\n",
              "    </tr>\n",
              "  </thead>\n",
              "  <tbody>\n",
              "    <tr>\n",
              "      <th>96427</th>\n",
              "      <td>2020-01-01 19:00:00</td>\n",
              "      <td>27</td>\n",
              "      <td>24</td>\n",
              "      <td>0.0</td>\n",
              "      <td>11.0</td>\n",
              "      <td>7</td>\n",
              "      <td>6</td>\n",
              "      <td>37</td>\n",
              "      <td>11:38 AM</td>\n",
              "      <td>11:36 PM</td>\n",
              "      <td>07:12 AM</td>\n",
              "      <td>06:12 PM</td>\n",
              "      <td>18</td>\n",
              "      <td>26</td>\n",
              "      <td>26</td>\n",
              "      <td>25</td>\n",
              "      <td>16</td>\n",
              "      <td>4</td>\n",
              "      <td>64</td>\n",
              "      <td>0.0</td>\n",
              "      <td>1014</td>\n",
              "      <td>10</td>\n",
              "      <td>324</td>\n",
              "      <td>14</td>\n",
              "      <td>25</td>\n",
              "      <td>2020-01-01 19:00:00</td>\n",
              "    </tr>\n",
              "    <tr>\n",
              "      <th>96428</th>\n",
              "      <td>2020-01-01 20:00:00</td>\n",
              "      <td>27</td>\n",
              "      <td>24</td>\n",
              "      <td>0.0</td>\n",
              "      <td>11.0</td>\n",
              "      <td>7</td>\n",
              "      <td>1</td>\n",
              "      <td>37</td>\n",
              "      <td>11:38 AM</td>\n",
              "      <td>11:36 PM</td>\n",
              "      <td>07:12 AM</td>\n",
              "      <td>06:12 PM</td>\n",
              "      <td>18</td>\n",
              "      <td>26</td>\n",
              "      <td>26</td>\n",
              "      <td>25</td>\n",
              "      <td>15</td>\n",
              "      <td>4</td>\n",
              "      <td>65</td>\n",
              "      <td>0.0</td>\n",
              "      <td>1015</td>\n",
              "      <td>10</td>\n",
              "      <td>330</td>\n",
              "      <td>13</td>\n",
              "      <td>25</td>\n",
              "      <td>2020-01-01 20:00:00</td>\n",
              "    </tr>\n",
              "    <tr>\n",
              "      <th>96429</th>\n",
              "      <td>2020-01-01 21:00:00</td>\n",
              "      <td>27</td>\n",
              "      <td>24</td>\n",
              "      <td>0.0</td>\n",
              "      <td>11.0</td>\n",
              "      <td>7</td>\n",
              "      <td>1</td>\n",
              "      <td>37</td>\n",
              "      <td>11:38 AM</td>\n",
              "      <td>11:36 PM</td>\n",
              "      <td>07:12 AM</td>\n",
              "      <td>06:12 PM</td>\n",
              "      <td>18</td>\n",
              "      <td>26</td>\n",
              "      <td>26</td>\n",
              "      <td>25</td>\n",
              "      <td>14</td>\n",
              "      <td>4</td>\n",
              "      <td>67</td>\n",
              "      <td>0.0</td>\n",
              "      <td>1015</td>\n",
              "      <td>10</td>\n",
              "      <td>335</td>\n",
              "      <td>13</td>\n",
              "      <td>25</td>\n",
              "      <td>2020-01-01 21:00:00</td>\n",
              "    </tr>\n",
              "    <tr>\n",
              "      <th>96430</th>\n",
              "      <td>2020-01-01 22:00:00</td>\n",
              "      <td>27</td>\n",
              "      <td>24</td>\n",
              "      <td>0.0</td>\n",
              "      <td>11.0</td>\n",
              "      <td>7</td>\n",
              "      <td>1</td>\n",
              "      <td>37</td>\n",
              "      <td>11:38 AM</td>\n",
              "      <td>11:36 PM</td>\n",
              "      <td>07:12 AM</td>\n",
              "      <td>06:12 PM</td>\n",
              "      <td>18</td>\n",
              "      <td>26</td>\n",
              "      <td>26</td>\n",
              "      <td>25</td>\n",
              "      <td>13</td>\n",
              "      <td>4</td>\n",
              "      <td>66</td>\n",
              "      <td>0.0</td>\n",
              "      <td>1015</td>\n",
              "      <td>10</td>\n",
              "      <td>301</td>\n",
              "      <td>12</td>\n",
              "      <td>25</td>\n",
              "      <td>2020-01-01 22:00:00</td>\n",
              "    </tr>\n",
              "    <tr>\n",
              "      <th>96431</th>\n",
              "      <td>2020-01-01 23:00:00</td>\n",
              "      <td>27</td>\n",
              "      <td>24</td>\n",
              "      <td>0.0</td>\n",
              "      <td>11.0</td>\n",
              "      <td>7</td>\n",
              "      <td>1</td>\n",
              "      <td>37</td>\n",
              "      <td>11:38 AM</td>\n",
              "      <td>11:36 PM</td>\n",
              "      <td>07:12 AM</td>\n",
              "      <td>06:12 PM</td>\n",
              "      <td>18</td>\n",
              "      <td>26</td>\n",
              "      <td>26</td>\n",
              "      <td>24</td>\n",
              "      <td>12</td>\n",
              "      <td>4</td>\n",
              "      <td>66</td>\n",
              "      <td>0.0</td>\n",
              "      <td>1015</td>\n",
              "      <td>10</td>\n",
              "      <td>267</td>\n",
              "      <td>10</td>\n",
              "      <td>24</td>\n",
              "      <td>2020-01-01 23:00:00</td>\n",
              "    </tr>\n",
              "  </tbody>\n",
              "</table>\n",
              "</div>"
            ],
            "text/plain": [
              "                 date_time  maxtempC  ...  tempC                Date\n",
              "96427  2020-01-01 19:00:00        27  ...     25 2020-01-01 19:00:00\n",
              "96428  2020-01-01 20:00:00        27  ...     25 2020-01-01 20:00:00\n",
              "96429  2020-01-01 21:00:00        27  ...     25 2020-01-01 21:00:00\n",
              "96430  2020-01-01 22:00:00        27  ...     25 2020-01-01 22:00:00\n",
              "96431  2020-01-01 23:00:00        27  ...     24 2020-01-01 23:00:00\n",
              "\n",
              "[5 rows x 26 columns]"
            ]
          },
          "metadata": {
            "tags": []
          },
          "execution_count": 4
        }
      ]
    },
    {
      "cell_type": "code",
      "metadata": {
        "id": "G8wbK9Ltdbfp"
      },
      "source": [
        "data = data.set_index('Date')"
      ],
      "execution_count": null,
      "outputs": []
    },
    {
      "cell_type": "code",
      "metadata": {
        "id": "Hxv5jsYrdhFV"
      },
      "source": [
        "import sklearn.metrics as metrics\n",
        "def regression_results(y_true, y_pred):\n",
        "    # Regression metrics\n",
        "    explained_variance=metrics.explained_variance_score(y_true, y_pred)\n",
        "    mean_absolute_error=metrics.mean_absolute_error(y_true, y_pred) \n",
        "    mse=metrics.mean_squared_error(y_true, y_pred) \n",
        "    mean_squared_log_error=metrics.mean_squared_log_error(y_true, y_pred)\n",
        "    median_absolute_error=metrics.median_absolute_error(y_true, y_pred)\n",
        "    r2=metrics.r2_score(y_true, y_pred)\n",
        "    print('explained_variance: ', round(explained_variance,4))    \n",
        "    print('mean_squared_log_error: ', round(mean_squared_log_error,4))\n",
        "    print('r2: ', round(r2,4))\n",
        "    print('MAE: ', round(mean_absolute_error,4))\n",
        "    print('MSE: ', round(mse,4))\n",
        "    print('RMSE: ', round(np.sqrt(mse),4))"
      ],
      "execution_count": null,
      "outputs": []
    },
    {
      "cell_type": "code",
      "metadata": {
        "colab": {
          "base_uri": "https://localhost:8080/"
        },
        "id": "IpfmwGfxdoBw",
        "outputId": "7f34a4f4-498c-4d02-adb8-1ce9b6cf0ef9"
      },
      "source": [
        "data_temp = data[['tempC']]\n",
        "\n",
        "data_temp.loc[:,'Yesterday'] = data_temp.loc[:, 'tempC'].shift(24)\n",
        "\n",
        "\n",
        "data_temp.loc[:,'Yesterday_Diff'] = -(data_temp.loc[:,'Yesterday'] - data_temp.loc[:,'tempC']).shift(1)\n",
        "\n",
        "data_temp = data_temp.dropna()\n"
      ],
      "execution_count": null,
      "outputs": [
        {
          "output_type": "stream",
          "text": [
            "/usr/local/lib/python3.7/dist-packages/pandas/core/indexing.py:1596: SettingWithCopyWarning: \n",
            "A value is trying to be set on a copy of a slice from a DataFrame.\n",
            "Try using .loc[row_indexer,col_indexer] = value instead\n",
            "\n",
            "See the caveats in the documentation: https://pandas.pydata.org/pandas-docs/stable/user_guide/indexing.html#returning-a-view-versus-a-copy\n",
            "  self.obj[key] = _infer_fill_value(value)\n",
            "/usr/local/lib/python3.7/dist-packages/pandas/core/indexing.py:1743: SettingWithCopyWarning: \n",
            "A value is trying to be set on a copy of a slice from a DataFrame.\n",
            "Try using .loc[row_indexer,col_indexer] = value instead\n",
            "\n",
            "See the caveats in the documentation: https://pandas.pydata.org/pandas-docs/stable/user_guide/indexing.html#returning-a-view-versus-a-copy\n",
            "  isetter(ilocs[0], value)\n"
          ],
          "name": "stderr"
        }
      ]
    },
    {
      "cell_type": "code",
      "metadata": {
        "colab": {
          "base_uri": "https://localhost:8080/",
          "height": 450
        },
        "id": "eZgAkOLCuszz",
        "outputId": "99882f2a-1e8a-44ea-db0e-5993060b4bc6"
      },
      "source": [
        "data_temp\n"
      ],
      "execution_count": null,
      "outputs": [
        {
          "output_type": "execute_result",
          "data": {
            "text/html": [
              "<div>\n",
              "<style scoped>\n",
              "    .dataframe tbody tr th:only-of-type {\n",
              "        vertical-align: middle;\n",
              "    }\n",
              "\n",
              "    .dataframe tbody tr th {\n",
              "        vertical-align: top;\n",
              "    }\n",
              "\n",
              "    .dataframe thead th {\n",
              "        text-align: right;\n",
              "    }\n",
              "</style>\n",
              "<table border=\"1\" class=\"dataframe\">\n",
              "  <thead>\n",
              "    <tr style=\"text-align: right;\">\n",
              "      <th></th>\n",
              "      <th>tempC</th>\n",
              "      <th>Yesterday</th>\n",
              "      <th>Yesterday_Diff</th>\n",
              "    </tr>\n",
              "    <tr>\n",
              "      <th>Date</th>\n",
              "      <th></th>\n",
              "      <th></th>\n",
              "      <th></th>\n",
              "    </tr>\n",
              "  </thead>\n",
              "  <tbody>\n",
              "    <tr>\n",
              "      <th>2009-01-02 01:00:00</th>\n",
              "      <td>23</td>\n",
              "      <td>22.0</td>\n",
              "      <td>2.0</td>\n",
              "    </tr>\n",
              "    <tr>\n",
              "      <th>2009-01-02 02:00:00</th>\n",
              "      <td>23</td>\n",
              "      <td>22.0</td>\n",
              "      <td>1.0</td>\n",
              "    </tr>\n",
              "    <tr>\n",
              "      <th>2009-01-02 03:00:00</th>\n",
              "      <td>23</td>\n",
              "      <td>22.0</td>\n",
              "      <td>1.0</td>\n",
              "    </tr>\n",
              "    <tr>\n",
              "      <th>2009-01-02 04:00:00</th>\n",
              "      <td>23</td>\n",
              "      <td>22.0</td>\n",
              "      <td>1.0</td>\n",
              "    </tr>\n",
              "    <tr>\n",
              "      <th>2009-01-02 05:00:00</th>\n",
              "      <td>23</td>\n",
              "      <td>22.0</td>\n",
              "      <td>1.0</td>\n",
              "    </tr>\n",
              "    <tr>\n",
              "      <th>...</th>\n",
              "      <td>...</td>\n",
              "      <td>...</td>\n",
              "      <td>...</td>\n",
              "    </tr>\n",
              "    <tr>\n",
              "      <th>2020-01-01 19:00:00</th>\n",
              "      <td>25</td>\n",
              "      <td>23.0</td>\n",
              "      <td>1.0</td>\n",
              "    </tr>\n",
              "    <tr>\n",
              "      <th>2020-01-01 20:00:00</th>\n",
              "      <td>25</td>\n",
              "      <td>22.0</td>\n",
              "      <td>2.0</td>\n",
              "    </tr>\n",
              "    <tr>\n",
              "      <th>2020-01-01 21:00:00</th>\n",
              "      <td>25</td>\n",
              "      <td>21.0</td>\n",
              "      <td>3.0</td>\n",
              "    </tr>\n",
              "    <tr>\n",
              "      <th>2020-01-01 22:00:00</th>\n",
              "      <td>25</td>\n",
              "      <td>21.0</td>\n",
              "      <td>4.0</td>\n",
              "    </tr>\n",
              "    <tr>\n",
              "      <th>2020-01-01 23:00:00</th>\n",
              "      <td>24</td>\n",
              "      <td>21.0</td>\n",
              "      <td>4.0</td>\n",
              "    </tr>\n",
              "  </tbody>\n",
              "</table>\n",
              "<p>96407 rows × 3 columns</p>\n",
              "</div>"
            ],
            "text/plain": [
              "                     tempC  Yesterday  Yesterday_Diff\n",
              "Date                                                 \n",
              "2009-01-02 01:00:00     23       22.0             2.0\n",
              "2009-01-02 02:00:00     23       22.0             1.0\n",
              "2009-01-02 03:00:00     23       22.0             1.0\n",
              "2009-01-02 04:00:00     23       22.0             1.0\n",
              "2009-01-02 05:00:00     23       22.0             1.0\n",
              "...                    ...        ...             ...\n",
              "2020-01-01 19:00:00     25       23.0             1.0\n",
              "2020-01-01 20:00:00     25       22.0             2.0\n",
              "2020-01-01 21:00:00     25       21.0             3.0\n",
              "2020-01-01 22:00:00     25       21.0             4.0\n",
              "2020-01-01 23:00:00     24       21.0             4.0\n",
              "\n",
              "[96407 rows x 3 columns]"
            ]
          },
          "metadata": {
            "tags": []
          },
          "execution_count": 8
        }
      ]
    },
    {
      "cell_type": "code",
      "metadata": {
        "id": "dD_UN1l4vcMz"
      },
      "source": [
        "X_train = data_temp[:'2018'].drop(['tempC'], axis =1)\n",
        "y_train = data_temp.loc[:'2018', 'tempC']\n",
        "\n",
        "X_test = data_temp['2019':].drop(['tempC'], axis =1)\n",
        "y_test = data_temp.loc['2019':, 'tempC']"
      ],
      "execution_count": null,
      "outputs": []
    },
    {
      "cell_type": "markdown",
      "metadata": {
        "id": "JiSUnfgVz8rh"
      },
      "source": [
        ""
      ]
    },
    {
      "cell_type": "code",
      "metadata": {
        "colab": {
          "base_uri": "https://localhost:8080/",
          "height": 315
        },
        "id": "D_iSlMag0BDT",
        "outputId": "14f7bdab-a859-4c0f-aab5-4b0067148f02"
      },
      "source": [
        "from sklearn.linear_model import LinearRegression\n",
        "from sklearn.ensemble import RandomForestRegressor\n",
        "from sklearn.tree import DecisionTreeRegressor\n",
        "from sklearn.svm import SVR\n",
        "from sklearn.neighbors import KNeighborsRegressor\n",
        "from sklearn.model_selection import TimeSeriesSplit\n",
        "from sklearn.model_selection import cross_val_score\n",
        "import matplotlib.pyplot as plt\n",
        "import numpy as np\n",
        "\n",
        "models = []\n",
        "models.append(('LR', LinearRegression()))\n",
        "#models.append(('NN', MLPRegressor(solver = 'lbfgs')))  #neural network\n",
        "#models.append(('KNN', KNeighborsRegressor())) \n",
        "models.append(('RF', RandomForestRegressor(n_estimators = 10))) # Ensemble method - collection of many decision trees\n",
        "#models.append(('SVR', SVR(gamma='auto'))) # kernel = linear\n",
        "# Evaluate each model in turn\n",
        "results = []\n",
        "names = []\n",
        "for name, model in models:\n",
        "    # TimeSeries Cross validation\n",
        " tscv = TimeSeriesSplit(n_splits=10)\n",
        "    \n",
        " cv_results = cross_val_score(model, X_train, y_train, cv=tscv, scoring='r2')\n",
        " results.append(cv_results)\n",
        " names.append(name)\n",
        " print('%s: %f (%f)' % (name, cv_results.mean(), cv_results.std()))\n",
        "    \n",
        "# Compare Algorithms\n",
        "best_model = RandomForestRegressor()\n",
        "plt.boxplot(results, labels=names)\n",
        "plt.title('Algorithm Comparison')\n",
        "plt.show()"
      ],
      "execution_count": null,
      "outputs": [
        {
          "output_type": "stream",
          "text": [
            "LR: 0.961312 (0.009809)\n",
            "RF: 0.960650 (0.009147)\n"
          ],
          "name": "stdout"
        },
        {
          "output_type": "display_data",
          "data": {
            "image/png": "[encoded data removed]",
            "text/plain": [
              "<Figure size 432x288 with 1 Axes>"
            ]
          },
          "metadata": {
            "tags": [],
            "needs_background": "light"
          }
        }
      ]
    },
    {
      "cell_type": "code",
      "metadata": {
        "id": "GDtKSBa-x0qC"
      },
      "source": [
        "from sklearn.metrics import make_scorer\n",
        "def rmse(actual, predict):\n",
        "  predict = np.array(predict)\n",
        "  actual = np.array(actual)\n",
        "  distance = predict - actual\n",
        "  square_distance = distance ** 2\n",
        "  mean_square_distance = square_distance.mean()\n",
        "  score = np.sqrt(mean_square_distance)\n",
        "  return score\n",
        "rmse_score = make_scorer(rmse, greater_is_better = False) "
      ],
      "execution_count": null,
      "outputs": []
    },
    {
      "cell_type": "code",
      "metadata": {
        "id": "723EBkC2zHYF"
      },
      "source": [
        "from sklearn.model_selection import GridSearchCV\n",
        "model = RandomForestRegressor()\n",
        "param_search = { \n",
        "    'n_estimators': [20, 50, 100],\n",
        "    'max_features': ['auto', 'sqrt', 'log2'],\n",
        "    'max_depth' : [i for i in range(5,15)]\n",
        "}\n",
        "param_search = {\n",
        "    'n_estimators': [20, 100],\n",
        "    'max_depth' : [5, 10 ,12]\n",
        "}\n",
        "tscv = TimeSeriesSplit(n_splits=10)\n",
        "gsearch = GridSearchCV(estimator=model, cv=tscv, param_grid=param_search, scoring = rmse_score)\n",
        "gsearch.fit(X_train, y_train)\n",
        "best_score = gsearch.best_score_\n",
        "best_model = gsearch.best_estimator_"
      ],
      "execution_count": null,
      "outputs": []
    },
    {
      "cell_type": "code",
      "metadata": {
        "colab": {
          "base_uri": "https://localhost:8080/",
          "height": 367
        },
        "id": "3weqKe4D00Ya",
        "outputId": "25347e6e-cb1b-4704-ab06-71f695d476a6"
      },
      "source": [
        "y_true = y_test.values\n",
        "y_pred = best_model.predict(X_test)\n",
        "regression_results(y_true, y_pred)\n",
        "\n",
        "plt.plot(X_test.index, y_true)\n",
        "plt.show()"
      ],
      "execution_count": null,
      "outputs": [
        {
          "output_type": "stream",
          "text": [
            "explained_variance:  0.7603\n",
            "mean_squared_log_error:  0.0163\n",
            "r2:  0.7603\n",
            "MAE:  0.5291\n",
            "MSE:  1.4995\n",
            "RMSE:  1.2245\n"
          ],
          "name": "stdout"
        },
        {
          "output_type": "display_data",
          "data": {
            "image/png": "[encoded data removed]",
            "text/plain": [
              "<Figure size 432x288 with 1 Axes>"
            ]
          },
          "metadata": {
            "tags": [],
            "needs_background": "light"
          }
        }
      ]
    },
    {
      "cell_type": "code",
      "metadata": {
        "colab": {
          "base_uri": "https://localhost:8080/",
          "height": 235
        },
        "id": "5xb-WhU0253_",
        "outputId": "53eb00ee-8638-4bb6-be65-538d19bed511"
      },
      "source": [
        "X_test.head()"
      ],
      "execution_count": null,
      "outputs": [
        {
          "output_type": "execute_result",
          "data": {
            "text/html": [
              "<div>\n",
              "<style scoped>\n",
              "    .dataframe tbody tr th:only-of-type {\n",
              "        vertical-align: middle;\n",
              "    }\n",
              "\n",
              "    .dataframe tbody tr th {\n",
              "        vertical-align: top;\n",
              "    }\n",
              "\n",
              "    .dataframe thead th {\n",
              "        text-align: right;\n",
              "    }\n",
              "</style>\n",
              "<table border=\"1\" class=\"dataframe\">\n",
              "  <thead>\n",
              "    <tr style=\"text-align: right;\">\n",
              "      <th></th>\n",
              "      <th>Yesterday</th>\n",
              "      <th>Yesterday_Diff</th>\n",
              "    </tr>\n",
              "    <tr>\n",
              "      <th>Date</th>\n",
              "      <th></th>\n",
              "      <th></th>\n",
              "    </tr>\n",
              "  </thead>\n",
              "  <tbody>\n",
              "    <tr>\n",
              "      <th>2019-01-01 00:00:00</th>\n",
              "      <td>22.0</td>\n",
              "      <td>3.0</td>\n",
              "    </tr>\n",
              "    <tr>\n",
              "      <th>2019-01-01 01:00:00</th>\n",
              "      <td>22.0</td>\n",
              "      <td>6.0</td>\n",
              "    </tr>\n",
              "    <tr>\n",
              "      <th>2019-01-01 02:00:00</th>\n",
              "      <td>22.0</td>\n",
              "      <td>6.0</td>\n",
              "    </tr>\n",
              "    <tr>\n",
              "      <th>2019-01-01 03:00:00</th>\n",
              "      <td>22.0</td>\n",
              "      <td>5.0</td>\n",
              "    </tr>\n",
              "    <tr>\n",
              "      <th>2019-01-01 04:00:00</th>\n",
              "      <td>22.0</td>\n",
              "      <td>5.0</td>\n",
              "    </tr>\n",
              "  </tbody>\n",
              "</table>\n",
              "</div>"
            ],
            "text/plain": [
              "                     Yesterday  Yesterday_Diff\n",
              "Date                                          \n",
              "2019-01-01 00:00:00       22.0             3.0\n",
              "2019-01-01 01:00:00       22.0             6.0\n",
              "2019-01-01 02:00:00       22.0             6.0\n",
              "2019-01-01 03:00:00       22.0             5.0\n",
              "2019-01-01 04:00:00       22.0             5.0"
            ]
          },
          "metadata": {
            "tags": []
          },
          "execution_count": 14
        }
      ]
    },
    {
      "cell_type": "code",
      "metadata": {
        "colab": {
          "base_uri": "https://localhost:8080/",
          "height": 235
        },
        "id": "maRUFujV4KaE",
        "outputId": "609bac4a-0aab-4c49-c2c6-9e1c070fc02c"
      },
      "source": [
        "X_train.tail()"
      ],
      "execution_count": null,
      "outputs": [
        {
          "output_type": "execute_result",
          "data": {
            "text/html": [
              "<div>\n",
              "<style scoped>\n",
              "    .dataframe tbody tr th:only-of-type {\n",
              "        vertical-align: middle;\n",
              "    }\n",
              "\n",
              "    .dataframe tbody tr th {\n",
              "        vertical-align: top;\n",
              "    }\n",
              "\n",
              "    .dataframe thead th {\n",
              "        text-align: right;\n",
              "    }\n",
              "</style>\n",
              "<table border=\"1\" class=\"dataframe\">\n",
              "  <thead>\n",
              "    <tr style=\"text-align: right;\">\n",
              "      <th></th>\n",
              "      <th>Yesterday</th>\n",
              "      <th>Yesterday_Diff</th>\n",
              "    </tr>\n",
              "    <tr>\n",
              "      <th>Date</th>\n",
              "      <th></th>\n",
              "      <th></th>\n",
              "    </tr>\n",
              "  </thead>\n",
              "  <tbody>\n",
              "    <tr>\n",
              "      <th>2018-12-31 19:00:00</th>\n",
              "      <td>25.0</td>\n",
              "      <td>-0.0</td>\n",
              "    </tr>\n",
              "    <tr>\n",
              "      <th>2018-12-31 20:00:00</th>\n",
              "      <td>24.0</td>\n",
              "      <td>-1.0</td>\n",
              "    </tr>\n",
              "    <tr>\n",
              "      <th>2018-12-31 21:00:00</th>\n",
              "      <td>23.0</td>\n",
              "      <td>-0.0</td>\n",
              "    </tr>\n",
              "    <tr>\n",
              "      <th>2018-12-31 22:00:00</th>\n",
              "      <td>23.0</td>\n",
              "      <td>-0.0</td>\n",
              "    </tr>\n",
              "    <tr>\n",
              "      <th>2018-12-31 23:00:00</th>\n",
              "      <td>23.0</td>\n",
              "      <td>2.0</td>\n",
              "    </tr>\n",
              "  </tbody>\n",
              "</table>\n",
              "</div>"
            ],
            "text/plain": [
              "                     Yesterday  Yesterday_Diff\n",
              "Date                                          \n",
              "2018-12-31 19:00:00       25.0            -0.0\n",
              "2018-12-31 20:00:00       24.0            -1.0\n",
              "2018-12-31 21:00:00       23.0            -0.0\n",
              "2018-12-31 22:00:00       23.0            -0.0\n",
              "2018-12-31 23:00:00       23.0             2.0"
            ]
          },
          "metadata": {
            "tags": []
          },
          "execution_count": 15
        }
      ]
    },
    {
      "cell_type": "code",
      "metadata": {
        "colab": {
          "base_uri": "https://localhost:8080/"
        },
        "id": "F0w0MH0c4qDM",
        "outputId": "de1797f8-041b-4172-a550-1e0ab37ffb87"
      },
      "source": [
        "best_model.predict([[33, 31.27 -32]])"
      ],
      "execution_count": null,
      "outputs": [
        {
          "output_type": "execute_result",
          "data": {
            "text/plain": [
              "array([32.15590447])"
            ]
          },
          "metadata": {
            "tags": []
          },
          "execution_count": 20
        }
      ]
    },
    {
      "cell_type": "code",
      "metadata": {
        "id": "cT5XI2YQ9G8I"
      },
      "source": [
        "import pickle\n",
        "\n",
        "f = open('weather_model.ser', \"wb\")\n",
        "pickle.dump(best_model, f)\n",
        "f.close()\n"
      ],
      "execution_count": null,
      "outputs": []
    },
    {
      "cell_type": "code",
      "metadata": {
        "id": "zY0shJKeaZhh"
      },
      "source": [
        ""
      ],
      "execution_count": null,
      "outputs": []
    }
  ]
}